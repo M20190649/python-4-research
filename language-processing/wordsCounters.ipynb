{
 "cells": [
  {
   "cell_type": "markdown",
   "metadata": {},
   "source": [
    "Project GutenBerg"
   ]
  },
  {
   "cell_type": "code",
   "execution_count": 9,
   "metadata": {},
   "outputs": [
    {
     "data": {
      "text/plain": [
       "{'je': 2, 'la': 1, 'meilleure': 1, 'suis': 1}"
      ]
     },
     "execution_count": 9,
     "metadata": {},
     "output_type": "execute_result"
    }
   ],
   "source": [
    "text = \"Je suis la meilleure,,, je\"\n",
    "\n",
    "\n",
    "def count_words(text):\n",
    "    \"\"\"\n",
    "    Count the number of times each word occures in text (str). Returns a dictionary where\n",
    "    keysare unique words and value are word counts. skips ponctuations\n",
    "    \"\"\"\n",
    "    text = text.lower()\n",
    "    skips = [\".\", \",\", \";\", \"'\", '\"',\":\"]\n",
    "    for ch in skips:\n",
    "        text = text.replace(ch, \"\")\n",
    "        \n",
    "    word_counts = {}\n",
    "    for word in text.split(\" \"):\n",
    "        if word in word_counts:\n",
    "            word_counts[word] += 1\n",
    "        else:\n",
    "            word_counts[word] = 1\n",
    "    return word_counts\n",
    "count_words(text)"
   ]
  },
  {
   "cell_type": "code",
   "execution_count": 10,
   "metadata": {},
   "outputs": [
    {
     "data": {
      "text/plain": [
       "Counter({'je': 2, 'la': 1, 'meilleure': 1, 'suis': 1})"
      ]
     },
     "execution_count": 10,
     "metadata": {},
     "output_type": "execute_result"
    }
   ],
   "source": [
    "from collections import Counter\n",
    "\n",
    "def count_words_fast(text):\n",
    "    \"\"\"\n",
    "    Count the number of times each word occures in text (str). Returns a dictionary where\n",
    "    keysare unique words and value are word counts. skips ponctuations\n",
    "    \"\"\"\n",
    "    text = text.lower()\n",
    "    skips = [\".\", \",\", \";\", \"'\", '\"',\":\"]\n",
    "    for ch in skips:\n",
    "        text = text.replace(ch, \"\")\n",
    "        \n",
    "    word_counts = {}\n",
    "    word_counts = Counter(text.split(\" \"))\n",
    "    return word_counts\n",
    "count_words_fast(text)"
   ]
  },
  {
   "cell_type": "code",
   "execution_count": 11,
   "metadata": {},
   "outputs": [
    {
     "data": {
      "text/plain": [
       "True"
      ]
     },
     "execution_count": 11,
     "metadata": {},
     "output_type": "execute_result"
    }
   ],
   "source": [
    "count_words_fast(text) == count_words(text)"
   ]
  },
  {
   "cell_type": "code",
   "execution_count": null,
   "metadata": {
    "collapsed": true
   },
   "outputs": [],
   "source": []
  }
 ],
 "metadata": {
  "anaconda-cloud": {},
  "kernelspec": {
   "display_name": "Python 3",
   "language": "python",
   "name": "python3"
  },
  "language_info": {
   "codemirror_mode": {
    "name": "ipython",
    "version": 3
   },
   "file_extension": ".py",
   "mimetype": "text/x-python",
   "name": "python",
   "nbconvert_exporter": "python",
   "pygments_lexer": "ipython3",
   "version": "3.5.1"
  }
 },
 "nbformat": 4,
 "nbformat_minor": 2
}
