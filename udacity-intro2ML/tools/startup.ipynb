{
 "cells": [
  {
   "cell_type": "code",
   "execution_count": 13,
   "metadata": {},
   "outputs": [
    {
     "name": "stdout",
     "output_type": "stream",
     "text": [
      "Checking for nltk\n",
      "Checking for numpy\n",
      "Checking for scipy\n",
      "Checking for sklearn\n"
     ]
    }
   ],
   "source": [
    "#!/usr/bin/python\n",
    "\n",
    "print(\"Checking for nltk\")\n",
    "try: \n",
    "    import nltk\n",
    "except ImportError:\n",
    "    print(\"you should install nltk before continuing\")\n",
    "\n",
    "print(\"Checking for numpy\")\n",
    "try:\n",
    "    import numpy\n",
    "except ImportError:\n",
    "    print(\"you should install numpy before continuing\")\n",
    "    \n",
    "print(\"Checking for scipy\")\n",
    "try:\n",
    "    import scipy\n",
    "except ImportError:\n",
    "    print(\"you should install scipy before continuing\")\n",
    "    \n",
    "print(\"Checking for sklearn\")\n",
    "try:\n",
    "    import sklearn\n",
    "except ImportError:\n",
    "    print(\"you should install sklearn before continuing\")\n",
    "    "
   ]
  },
  {
   "cell_type": "code",
   "execution_count": 18,
   "metadata": {},
   "outputs": [
    {
     "name": "stdout",
     "output_type": "stream",
     "text": [
      "downloading the Enron dataset (this may take a while)\n",
      "to check on progress, you can cd up one level, then execute <ls -lthr> nEnron dataset should be last item on the list, along with its current size\n",
      "download will complete at about 423 MB\n",
      "download complete!\n"
     ]
    }
   ],
   "source": [
    "print(\"downloading the Enron dataset (this may take a while)\\nto check on progress, you can cd up one level, then execute <ls -lthr> nEnron dataset should be last item on the list, along with its current size\\ndownload will complete at about 423 MB\")\n",
    "\n",
    "import urllib.request\n",
    "url = \"https://www.cs.cmu.edu/~./enron/enron_mail_20150507.tar.gz\"\n",
    "urllib.request.urlretrieve(url, filename=\"../enron_mail_20150507.tar.gz\") \n",
    "print(\"download complete!\")"
   ]
  },
  {
   "cell_type": "code",
   "execution_count": 19,
   "metadata": {},
   "outputs": [
    {
     "name": "stdout",
     "output_type": "stream",
     "text": [
      "unzipping Eron dataset (this may take a while)\n",
      "you're ready to go!\n"
     ]
    }
   ],
   "source": [
    "print(\"unzipping Eron dataset (this may take a while)\")\n",
    "import tarfile\n",
    "import os\n",
    "os.chdir(\"..\")\n",
    "tfile = tarfile.open(\"enron_mail_20150507.tar.gz\", \"r:gz\")\n",
    "tfile.extractall(\".\")\n",
    "\n",
    "print(\"you're ready to go!\")"
   ]
  },
  {
   "cell_type": "code",
   "execution_count": null,
   "metadata": {
    "collapsed": true
   },
   "outputs": [],
   "source": []
  }
 ],
 "metadata": {
  "anaconda-cloud": {},
  "kernelspec": {
   "display_name": "Python 3",
   "language": "python",
   "name": "python3"
  },
  "language_info": {
   "codemirror_mode": {
    "name": "ipython",
    "version": 3
   },
   "file_extension": ".py",
   "mimetype": "text/x-python",
   "name": "python",
   "nbconvert_exporter": "python",
   "pygments_lexer": "ipython3",
   "version": "3.5.1"
  }
 },
 "nbformat": 4,
 "nbformat_minor": 2
}
